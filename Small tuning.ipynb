{
  "nbformat": 4,
  "nbformat_minor": 0,
  "metadata": {
    "colab": {
      "name": "Prediction Testing",
      "provenance": [],
      "collapsed_sections": []
    },
    "kernelspec": {
      "name": "python3",
      "display_name": "Python 3"
    }
  },
  "cells": [
    {
      "cell_type": "code",
      "metadata": {
        "id": "3ZqtnIMfqwf7",
        "colab_type": "code",
        "colab": {}
      },
      "source": [
        "import numpy as np\n",
        "import pandas as pd\n",
        "import scipy.stats as stats\n",
        "from sklearn.linear_model import LogisticRegression\n",
        "from sklearn.preprocessing import MinMaxScaler\n",
        "from sklearn.model_selection import train_test_split\n",
        "from xgboost import XGBClassifier"
      ],
      "execution_count": null,
      "outputs": []
    },
    {
      "cell_type": "code",
      "metadata": {
        "id": "wR1bKA92q2xx",
        "colab_type": "code",
        "colab": {
          "base_uri": "https://localhost:8080/",
          "height": 238
        },
        "outputId": "33622cf3-8da6-499b-cef0-716e54c2b44e"
      },
      "source": [
        "df = pd.read_csv(r\"/content/drive/My Drive/Crypto/btcusd.csv\")\n",
        "df = df.groupby('time').mean()\n",
        "display(df.info())"
      ],
      "execution_count": null,
      "outputs": [
        {
          "output_type": "stream",
          "text": [
            "<class 'pandas.core.frame.DataFrame'>\n",
            "Int64Index: 2841761 entries, 1364774820000 to 1593425100000\n",
            "Data columns (total 5 columns):\n",
            " #   Column  Dtype  \n",
            "---  ------  -----  \n",
            " 0   open    float64\n",
            " 1   close   float64\n",
            " 2   high    float64\n",
            " 3   low     float64\n",
            " 4   volume  float64\n",
            "dtypes: float64(5)\n",
            "memory usage: 130.1 MB\n"
          ],
          "name": "stdout"
        },
        {
          "output_type": "display_data",
          "data": {
            "text/plain": [
              "None"
            ]
          },
          "metadata": {
            "tags": []
          }
        }
      ]
    },
    {
      "cell_type": "code",
      "metadata": {
        "id": "IfdBTnsdq55G",
        "colab_type": "code",
        "colab": {}
      },
      "source": [
        "#Features\n",
        "df['High 8 RMA'] = df['close'].rolling(window=8).mean()\n",
        "df['High 13 RMA'] = df['close'].rolling(window=13).mean()\n",
        "df['High 21 RMA'] = df['close'].rolling(window=21).mean()\n",
        "df['High 55 RMA'] = df['close'].rolling(window=55).mean()\n",
        "df['Bollinger High'] = df['High 13 RMA'] +df['close'].rolling(2).std()\n",
        "df['Bollinger Low'] =  df['High 13 RMA'] - df['close'].rolling(2).std()\n",
        "df['returns'] = df['close'].pct_change(60)\n",
        "df['8 EMA'] = df['close'].ewm(span=120,min_periods=0,adjust=False,ignore_na=False).mean()\n",
        "df['13 EMA'] = df['close'].ewm(span=195,min_periods=0,adjust=False,ignore_na=False).mean()\n",
        "df['21 EMA'] = df['close'].ewm(span=315,min_periods=0,adjust=False,ignore_na=False).mean()\n",
        "df['34 EMA'] = df['close'].ewm(span=825,min_periods=0,adjust=False,ignore_na=False).mean()\n",
        "\n",
        "\n",
        "\n",
        "#TARGETS\n",
        "# # 1\n",
        "# df['target']=(df['returns'].shift(-20)>0).astype(int)\n",
        "\n",
        "\n",
        "# # 2\n",
        "# # This might be something decent, but needs work\n",
        "df['target'] = (((df['8 EMA']>df['13 EMA']) & (df['13 EMA']>df['21 EMA']) & (df['21 EMA']>df['34 EMA'])).astype(int).shift(-20)>0).astype(int)\n",
        "\n",
        "\n",
        "\n",
        "#Drop all NA\n",
        "df.dropna(inplace=True)"
      ],
      "execution_count": null,
      "outputs": []
    },
    {
      "cell_type": "code",
      "metadata": {
        "id": "NO54u5JStlau",
        "colab_type": "code",
        "colab": {}
      },
      "source": [
        "def backtesting(prediction_column, percent_column):\n",
        "\n",
        "  btc_price = 0\n",
        "  one_week_df = backtesting_df[-43800:]\n",
        "  potential_initial_investment = 1000\n",
        "  potential_money_earned = 0\n",
        "  potential_holdings = 0\n",
        "  potential_status = 0\n",
        "  actual_initial_investment = 1000\n",
        "  actual_money_earned = 0\n",
        "  actual_holdings = 0\n",
        "  actual_status = 0\n",
        "  # 0 Statusmeans we are not holding money. If status is 1, we are invested\n",
        "#Ideal\n",
        "  for i in range(len(one_week_df)):\n",
        "    if (one_week_df.iloc[i]['target']==1 and potential_status ==0):\n",
        "      amount_invested = potential_initial_investment*.3\n",
        "      potential_holdings = (amount_invested)/(one_week_df.iloc[i]['close'])\n",
        "      potential_status = 1\n",
        "      potential_initial_investment = potential_initial_investment-amount_invested\n",
        "\n",
        "    elif (one_week_df.iloc[i]['target']==0 and potential_status ==1):\n",
        "      potential_money_earned = potential_holdings*one_week_df.iloc[i]['close']\n",
        "      potential_holdings = 0\n",
        "      potential_initial_investment += potential_money_earned\n",
        "      potential_status = 0\n",
        "    else:\n",
        "      pass\n",
        "\n",
        "#Model\n",
        "  for i in range(len(one_week_df)):\n",
        "\n",
        "#Stop loss attempt\n",
        "    if (btc_price != 0 and actual_status == 1 and (btc_price*.98)>=one_week_df.iloc[i]['open']):\n",
        "      actual_money_earned = actual_holdings*one_week_df.iloc[i]['close']\n",
        "      actual_initial_investment += actual_money_earned\n",
        "      actual_holdings = 0\n",
        "      actual_status = 0\n",
        "      btc_price = 0\n",
        "#Buy\n",
        "    if (one_week_df.iloc[i][prediction_column]==1 and actual_status == 0 and one_week_df.iloc[i][percent_column]>0.52):\n",
        "      amount_invested = actual_initial_investment*.3\n",
        "      actual_holdings = (amount_invested)/(one_week_df.iloc[i]['close'])\n",
        "      actual_status = 1\n",
        "      actual_initial_investment = actual_initial_investment-amount_invested\n",
        "      btc_price = one_week_df.iloc[i]['close']\n",
        "#Sell\n",
        "    elif (one_week_df.iloc[i][prediction_column]==0 and actual_status == 1 and one_week_df.iloc[i][percent_column]>0.65):\n",
        "      actual_money_earned = actual_holdings*one_week_df.iloc[i]['close']\n",
        "      actual_initial_investment += actual_money_earned\n",
        "      actual_holdings = 0\n",
        "      actual_status = 0\n",
        "      btc_price = 0\n",
        "    else:\n",
        "      pass\n",
        "\n",
        "  print(f\"strategy optimally earns: ${potential_initial_investment} in one weeks\")\n",
        "  print(f\"{prediction_column} strategy earns: ${actual_initial_investment} in one week\")\n",
        "\n",
        "\n",
        "# Dual model prediction\n",
        "def dual_backtesting(buy_prediction_column, buy_percent_column, sell_prediction_column, sell_percent_column):\n",
        "\n",
        "  btc_price = 0\n",
        "  one_week_df = backtesting_df[-43800:]\n",
        "  potential_initial_investment = 1000\n",
        "  potential_money_earned = 0\n",
        "  potential_holdings = 0\n",
        "  potential_status = 0\n",
        "  actual_initial_investment = 1000\n",
        "  actual_money_earned = 0\n",
        "  actual_holdings = 0\n",
        "  actual_status = 0\n",
        "  # 0 Status means we are not holding money. If status is 1, we are invested\n",
        "\n",
        "\n",
        "\n",
        "# Ideal\n",
        "  for i in range(len(one_week_df)):\n",
        "    if (one_week_df.iloc[i]['target']==1 and potential_status ==0):\n",
        "      amount_invested = potential_initial_investment*.3\n",
        "      potential_holdings = (amount_invested)/(one_week_df.iloc[i]['close'])\n",
        "      potential_status = 1\n",
        "      potential_initial_investment = potential_initial_investment-amount_invested\n",
        "\n",
        "    elif (one_week_df.iloc[i]['target']==0 and potential_status ==1):\n",
        "      potential_money_earned = potential_holdings*one_week_df.iloc[i]['close']\n",
        "      potential_holdings = 0\n",
        "      potential_initial_investment += potential_money_earned\n",
        "      potential_status = 0\n",
        "    else:\n",
        "      pass\n",
        "\n",
        "# Models\n",
        "  for i in range(len(one_week_df)):\n",
        "    #Stop loss attempt\n",
        "    if (btc_price != 0 and actual_status == 1 and (btc_price*.98)>=one_week_df.iloc[i]['open']):\n",
        "      actual_money_earned = actual_holdings*one_week_df.iloc[i]['close']\n",
        "      actual_initial_investment += actual_money_earned\n",
        "      actual_holdings = 0\n",
        "      actual_status = 0\n",
        "      btc_price = 0\n",
        "\n",
        "    # Buy\n",
        "    if (one_week_df.iloc[i][buy_prediction_column]==1 and actual_status == 0 and one_week_df.iloc[i][buy_percent_column]>=0.55):\n",
        "      amount_invested = actual_initial_investment*.3\n",
        "      btc_price = one_week_df.iloc[i]['close']\n",
        "      actual_holdings = (amount_invested)/(one_week_df.iloc[i]['close'])\n",
        "      actual_status = 1\n",
        "      actual_initial_investment = actual_initial_investment-amount_invested\n",
        "    #Sell \n",
        "    elif (one_week_df.iloc[i][sell_prediction_column]==0 and actual_status == 1 and one_week_df.iloc[i][sell_percent_column]>=0.5):\n",
        "      actual_money_earned = actual_holdings*one_week_df.iloc[i]['close']\n",
        "      actual_initial_investment += actual_money_earned\n",
        "      actual_holdings = 0\n",
        "      actual_status = 0\n",
        "      btc_price = 0\n",
        "    else:\n",
        "      pass\n",
        "\n",
        "  print(f\"strategy optimally earns: ${potential_initial_investment} in one weeks\")\n",
        "  print(f\"{buy_prediction_column} and {sell_prediction_column} strategy earns: ${actual_initial_investment} in one week\") "
      ],
      "execution_count": null,
      "outputs": []
    },
    {
      "cell_type": "code",
      "metadata": {
        "id": "KTbVABJqRxeF",
        "colab_type": "code",
        "colab": {
          "base_uri": "https://localhost:8080/",
          "height": 34
        },
        "outputId": "ebb9db47-5560-4108-9881-a7600b155661"
      },
      "source": [
        ""
      ],
      "execution_count": null,
      "outputs": [
        {
          "output_type": "execute_result",
          "data": {
            "text/plain": [
              "103.9"
            ]
          },
          "metadata": {
            "tags": []
          },
          "execution_count": 23
        }
      ]
    },
    {
      "cell_type": "code",
      "metadata": {
        "id": "cfrLrgXurQSI",
        "colab_type": "code",
        "colab": {}
      },
      "source": [
        "scaler = MinMaxScaler()\n",
        "x = df.drop(['returns', 'target'], axis = 1)\n",
        "y = df['target']\n",
        "X_train, X_test, y_train, y_test = train_test_split(x, y, test_size = .2, random_state = 69, shuffle = False)\n",
        "X_train= scaler.fit_transform(X_train)\n",
        "X_test = scaler.transform(X_test)"
      ],
      "execution_count": null,
      "outputs": []
    },
    {
      "cell_type": "code",
      "metadata": {
        "id": "IyFNu3_R2flv",
        "colab_type": "code",
        "colab": {}
      },
      "source": [
        "backtesting_df = df[-568305:].copy()"
      ],
      "execution_count": null,
      "outputs": []
    },
    {
      "cell_type": "code",
      "metadata": {
        "id": "AJCPSZmoWnZo",
        "colab_type": "code",
        "colab": {
          "base_uri": "https://localhost:8080/",
          "height": 34
        },
        "outputId": "f7045476-78c0-4da5-d9c3-f129c30c10dd"
      },
      "source": [
        "len(LGR_prob)"
      ],
      "execution_count": null,
      "outputs": [
        {
          "output_type": "execute_result",
          "data": {
            "text/plain": [
              "568305"
            ]
          },
          "metadata": {
            "tags": []
          },
          "execution_count": 40
        }
      ]
    },
    {
      "cell_type": "code",
      "metadata": {
        "id": "Baq5pvd_rxDo",
        "colab_type": "code",
        "colab": {}
      },
      "source": [
        "#LOG\n",
        "LGR = LogisticRegression(class_weight = 'balanced', random_state = 69)\n",
        "LGR.fit(X_train, y_train)\n",
        "predictions = LGR.predict_proba(X_test)\n",
        "\n",
        "#Format for DF and backtesting\n",
        "LGR_prob = []\n",
        "LGR_perc = []\n",
        "for i in range(len(predictions)):\n",
        "  if predictions[i][0]>predictions[i][1]:\n",
        "    LGR_prob.append(0)\n",
        "    LGR_perc.append(predictions[i][0])\n",
        "  else:\n",
        "    LGR_prob.append(1)\n",
        "    LGR_perc.append(predictions[i][1])\n",
        "\n",
        "backtesting_df['Log_predictions'] = LGR_prob\n",
        "backtesting_df['Log_percent'] = LGR_perc\n"
      ],
      "execution_count": null,
      "outputs": []
    },
    {
      "cell_type": "code",
      "metadata": {
        "id": "iJzbfzaT24pV",
        "colab_type": "code",
        "colab": {}
      },
      "source": [
        "#GBC\n",
        "\n",
        "XGB_predict = []\n",
        "XGB_prob = []\n",
        "XGBC = XGBClassifier(max_depth = 6, learning_rate=.3, random_state=69)\n",
        "XGBC.fit(X_train, y_train)\n",
        "predictions = XGBC.predict_proba(X_test)\n",
        "\n",
        "for i in range(len(predictions)):\n",
        "  if predictions[i][0]>predictions[i][1]:\n",
        "    XGB_predict.append(0)\n",
        "    XGB_prob.append(predictions[i][0])\n",
        "  else:\n",
        "    XGB_predict.append(1)\n",
        "    XGB_prob.append(predictions[i][1])\n",
        "backtesting_df['XGB_predict'] = XGB_predict\n",
        "backtesting_df['XGB_prob'] = XGB_prob"
      ],
      "execution_count": null,
      "outputs": []
    },
    {
      "cell_type": "code",
      "metadata": {
        "id": "YuVF_E4LVyGr",
        "colab_type": "code",
        "colab": {
          "base_uri": "https://localhost:8080/",
          "height": 51
        },
        "outputId": "0f9facef-b275-4fd5-90e1-429c2e768145"
      },
      "source": [
        "# $985.56 no stoploss 52 buy\n",
        "backtesting(\"Log_predictions\", \"Log_percent\")"
      ],
      "execution_count": null,
      "outputs": [
        {
          "output_type": "stream",
          "text": [
            "strategy optimally earns: $1054.243353039738 in one weeks\n",
            "Log_predictions strategy earns: $993.1753263008405 in one week\n"
          ],
          "name": "stdout"
        }
      ]
    },
    {
      "cell_type": "code",
      "metadata": {
        "id": "tiKPw4N_4jMx",
        "colab_type": "code",
        "colab": {
          "base_uri": "https://localhost:8080/",
          "height": 51
        },
        "outputId": "420dcbf1-b6d2-4114-ce41-9c5c06a0dd01"
      },
      "source": [
        "# $1008 no stoploss 52 buy\n",
        "# $1009 stoploss\n",
        "backtesting(\"XGB_predict\", \"XGB_prob\")"
      ],
      "execution_count": null,
      "outputs": [
        {
          "output_type": "stream",
          "text": [
            "strategy optimally earns: $1054.243353039738 in one weeks\n",
            "XGB_predict strategy earns: $1009.0226677708276 in one week\n"
          ],
          "name": "stdout"
        }
      ]
    },
    {
      "cell_type": "code",
      "metadata": {
        "id": "ILAywfB29WHF",
        "colab_type": "code",
        "colab": {
          "base_uri": "https://localhost:8080/",
          "height": 105
        },
        "outputId": "a0aeeb2a-66d0-433e-ce90-d964fdd1b371"
      },
      "source": [
        "backtesting_df.columns"
      ],
      "execution_count": null,
      "outputs": [
        {
          "output_type": "execute_result",
          "data": {
            "text/plain": [
              "Index(['open', 'close', 'high', 'low', 'volume', 'High 8 RMA', 'High 13 RMA',\n",
              "       'High 21 RMA', 'High 55 RMA', 'Bollinger High', 'Bollinger Low',\n",
              "       'returns', '8 EMA', '13 EMA', '21 EMA', '34 EMA', 'target',\n",
              "       'predictions', 'percent', 'XGB_predict', 'XGB_prob'],\n",
              "      dtype='object')"
            ]
          },
          "metadata": {
            "tags": []
          },
          "execution_count": 120
        }
      ]
    },
    {
      "cell_type": "code",
      "metadata": {
        "id": "URedIO1ctda2",
        "colab_type": "code",
        "colab": {
          "base_uri": "https://localhost:8080/",
          "height": 51
        },
        "outputId": "d4ddbf51-8ca5-4d08-c95a-3366f1dcc549"
      },
      "source": [
        "# Highest XLLL simple 20 min no stoploss:  $1008.21\n",
        "# XLXX 1009/ ideal 1054 \n",
        "# Log_percent, Log_predictions\n",
        "# XGB_prob, XGB_predict\n",
        "dual_backtesting(\"Log_predictions\", \"XGB_prob\", \"XGB_predict\", \"XGB_prob\" )"
      ],
      "execution_count": null,
      "outputs": [
        {
          "output_type": "stream",
          "text": [
            "strategy optimally earns: $1054.243353039738 in one weeks\n",
            "Log_predictions and XGB_predict strategy earns: $980.9407603031376 in one week\n"
          ],
          "name": "stdout"
        }
      ]
    }
  ]
}